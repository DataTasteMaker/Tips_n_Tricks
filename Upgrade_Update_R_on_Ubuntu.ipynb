{
 "cells": [
  {
   "cell_type": "markdown",
   "metadata": {},
   "source": [
    "## Upgrading R / Installing Latest Version on Ubuntu"
   ]
  },
  {
   "cell_type": "markdown",
   "metadata": {},
   "source": [
    "Important Links:\n",
    "\n",
    "* **[R-Home](https://www.r-project.org)**\n",
    "\n",
    "* **[Terminal](https://help.ubuntu.com/community/UsingTheTerminal)**\n",
    "\n",
    "* **[Geographically closest CRAN mirror site](cran.r-project.org/mirrors.html)**"
   ]
  },
  {
   "cell_type": "markdown",
   "metadata": {},
   "source": [
    "#### Steps\n",
    "\n",
    "* Check if there is a new version rolled out on the [R-Home](https://www.r-project.org) main website\n",
    "![image](./images/RSite.png)"
   ]
  },
  {
   "cell_type": "markdown",
   "metadata": {},
   "source": [
    "* Once you see a new version available open your Ubuntu Terminal and type the below command. This command ensure you create a backup of the **sources.list** file which has all the important repositiories, configuration details which we do not want to modify beyond repair :)"
   ]
  },
  {
   "cell_type": "markdown",
   "metadata": {},
   "source": [
    "<code> $ sudo cp /etc/apt/sources.list ~/Documents/backup_sources.list</code>"
   ]
  },
  {
   "cell_type": "markdown",
   "metadata": {},
   "source": [
    "<font color = \"blue\">\n",
    "**Note:** <br>\n",
    "1. Do compare both the files to see the backup is correct<br>\n",
    "2. The backup location is of your choice\n",
    "\n",
    "</font>"
   ]
  },
  {
   "cell_type": "markdown",
   "metadata": {},
   "source": [
    "* Once you have taken the backup, type in the below command on the terminal. If no error, then the command has executed successfully."
   ]
  },
  {
   "cell_type": "markdown",
   "metadata": {},
   "source": [
    "<code> codename=$(lsb_release -c -s) </code>\n"
   ]
  },
  {
   "cell_type": "markdown",
   "metadata": {},
   "source": [
    "* Then type in the below command, however before that ensure the instead of http://ftp.iitm.ac.in/cran you must replace it with the CRAN mirror which is [geographically nearest](cran.r-project.org/mirrors.html) to you.\n",
    "\n",
    "* In my case I have used the CRAN mirror nearest to me as India"
   ]
  },
  {
   "cell_type": "markdown",
   "metadata": {},
   "source": [
    "<code> echo \"deb http://ftp.iitm.ac.in/cran/bin/linux/ubuntu $codename/\" | sudo tee -a /etc/apt/sources.list > /dev/null\n",
    "</code>"
   ]
  },
  {
   "cell_type": "markdown",
   "metadata": {},
   "source": [
    "* Once the command is executed, you can open the file **/etc/apt/sources.list** and see at the very end of the file there should be new lines added."
   ]
  },
  {
   "cell_type": "markdown",
   "metadata": {},
   "source": [
    "* The Ubuntu archives on CRAN are signed with the key of Michael Rutter <marutter@gmail> with key ID E084DAB9. So we have to type in as-is the following:\n",
    "<code><br>\n",
    "sudo apt-key adv --keyserver keyserver.ubuntu.com --recv-keys E084DAB9 <br>\n",
    "sudo add-apt-repository ppa:marutter/rdev\n",
    "<br></code>"
   ]
  },
  {
   "cell_type": "markdown",
   "metadata": {},
   "source": [
    "* And now we can do the regular update, upgrade commands\n",
    "\n",
    "<code><br>sudo apt-get update<br>sudo apt-get upgrade<br></code>\n"
   ]
  },
  {
   "cell_type": "markdown",
   "metadata": {},
   "source": [
    "* You need to type the below command **ONLY** if you are installing **R** for the first time, if you are updating it, then the below command is not required.\n",
    "\n",
    "<code><br> sudo apt-get install r-base r-base-dev <br></code>"
   ]
  },
  {
   "cell_type": "markdown",
   "metadata": {},
   "source": [
    "* Open up [R-Console](https://www.r-project.org/), [R-Studio](https://www.rstudio.com/) to check the latest version details. In my case I was updating <font color = \"blue\">**R**</font> to *3.2.4*"
   ]
  },
  {
   "cell_type": "markdown",
   "metadata": {},
   "source": [
    "![Rconsole](./images/RConsole.png)"
   ]
  }
 ],
 "metadata": {
  "kernelspec": {
   "display_name": "Python 2",
   "language": "python",
   "name": "python2"
  },
  "language_info": {
   "codemirror_mode": {
    "name": "ipython",
    "version": 2
   },
   "file_extension": ".py",
   "mimetype": "text/x-python",
   "name": "python",
   "nbconvert_exporter": "python",
   "pygments_lexer": "ipython2",
   "version": "2.7.11"
  }
 },
 "nbformat": 4,
 "nbformat_minor": 0
}
